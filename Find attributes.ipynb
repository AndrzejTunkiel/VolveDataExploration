{
 "cells": [
  {
   "cell_type": "markdown",
   "metadata": {},
   "source": [
    "# Introduction\n",
    "This notebook is meant to work with real-time drilling data from Volve dataset converted from WITSML to CSV.\n",
    "\n",
    "## Basic imports\n",
    "Some imports are necessary for the notebook to work."
   ]
  },
  {
   "cell_type": "code",
   "execution_count": null,
   "metadata": {},
   "outputs": [],
   "source": [
    "%matplotlib qt\n",
    "import numpy as np\n",
    "import pandas as pd\n",
    "import matplotlib.pyplot as plt\n",
    "from glob import glob\n",
    "import os\n",
    "import random"
   ]
  },
  {
   "cell_type": "markdown",
   "metadata": {},
   "source": [
    "## Constructing a file list\n",
    "File list is constructed in this cell. It will find all *.csv* files located in the same folder as this notebook. "
   ]
  },
  {
   "cell_type": "code",
   "execution_count": null,
   "metadata": {},
   "outputs": [],
   "source": [
    "filelist = glob(r'*.csv', recursive=False) #search in not recursive by default\n",
    "\n",
    "print (\"Detected logs:\\n\")\n",
    "\n",
    "for i in range(len(filelist)):\n",
    "    print ('[' + str(i) + ']' + \" \" + filelist[i].split('\\\\')[-1] + \" \" + str(os.path.getsize(filelist[i])//1000000) + 'MB')\n",
    "\n",
    "print ()"
   ]
  },
  {
   "cell_type": "markdown",
   "metadata": {},
   "source": [
    "## Searching for attributes\n",
    "\n",
    "This cell allows you to define a searchphrase (case insensitive) that will be searched for in the dataset. Only the logs that contain something will be shown.\n",
    "\n",
    "This notebook is optimized for speed by reading just the first line of the CSV file."
   ]
  },
  {
   "cell_type": "code",
   "execution_count": null,
   "metadata": {},
   "outputs": [],
   "source": [
    "searchphrase = \"depth\"\n",
    "searchphrase = searchphrase.lower()\n",
    "\n",
    "for j in filelist:\n",
    "    \n",
    "    df = pd.read_csv(j, nrows = 1)\n",
    "    k = 0\n",
    "    for i in list(df):\n",
    "        if (i.lower().find(searchphrase) > -1):\n",
    "            if k==0:\n",
    "                print (\"\")\n",
    "                print (\"Found in: \" + j)\n",
    "                k=1\n",
    "            print (i)\n",
    "\n",
    "print()"
   ]
  },
  {
   "cell_type": "markdown",
   "metadata": {},
   "source": [
    "## Chart generator\n",
    "\n",
    "It is difficult to create a method that would estimate usability of certain attribute from the point of completeness or noise. Therefore it is convinient to quickly generate charts of those attributes.\n",
    "\n",
    "This function will search for a phrase and plot a sample of 10 000 points (for performance reasons) and generate a high resolution PNG file."
   ]
  },
  {
   "cell_type": "code",
   "execution_count": null,
   "metadata": {},
   "outputs": [],
   "source": [
    "def chartgenerator(searchphrase):\n",
    "    \n",
    "    for j in filelist:\n",
    "        print (\"Reading \" + j)\n",
    "        n = sum(1 for line in open(j)) - 1\n",
    "        s = 10000\n",
    "        if (n - s) < 0 : n = s\n",
    "        skip = sorted(random.sample(range(1,n+1),n-s))\n",
    "\n",
    "        df = pd.read_csv(j, skiprows=skip)\n",
    "\n",
    "        for i in list(df):\n",
    "            if (i.lower().find(searchphrase) > -1):\n",
    "                plt.clf()\n",
    "                plt.figure(figsize=(20,10))\n",
    "                df[i].dropna().plot(linewidth=1, label=i, title=j.split('\\\\')[-1])\n",
    "                plt.legend()\n",
    "                print(j + i + '.png')\n",
    "                plt.savefig(j + i + '.png', dpi=300,bbox_inches='tight')\n"
   ]
  },
  {
   "cell_type": "markdown",
   "metadata": {},
   "source": [
    "This routine will cycle through a keyword list and feed it into the chart generator."
   ]
  },
  {
   "cell_type": "code",
   "execution_count": null,
   "metadata": {},
   "outputs": [],
   "source": [
    "keywords = [\n",
    "            'continuous',\n",
    "            'gamma'\n",
    "            ]\n",
    "\n",
    "for k in keywords:\n",
    "    k = k.lower()\n",
    "    chartgenerator(k)"
   ]
  },
  {
   "cell_type": "code",
   "execution_count": null,
   "metadata": {},
   "outputs": [],
   "source": []
  }
 ],
 "metadata": {
  "kernelspec": {
   "display_name": "Python 3",
   "language": "python",
   "name": "python3"
  },
  "language_info": {
   "codemirror_mode": {
    "name": "ipython",
    "version": 3
   },
   "file_extension": ".py",
   "mimetype": "text/x-python",
   "name": "python",
   "nbconvert_exporter": "python",
   "pygments_lexer": "ipython3",
   "version": "3.7.3"
  }
 },
 "nbformat": 4,
 "nbformat_minor": 2
}
